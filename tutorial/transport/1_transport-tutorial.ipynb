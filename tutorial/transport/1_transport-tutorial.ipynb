{
 "cells": [
  {
   "cell_type": "markdown",
   "metadata": {},
   "source": [
    "### Transport Tutorial - Notebook 1\n",
    "\n",
    "# Solve *Dantzig's Transport Problem* using **ixmp4** and **linopy**\n",
    "\n",
    "## Aim and scope of this tutorial\n",
    "\n",
    "This tutorial takes you through the steps to solve a simple optimization model\n",
    "using the **ixmp4** database management package and the **linopy** optimization package.\n",
    "\n",
    "We use **Dantzig's transport problem**, which is used as a [tutorial for linopy](https://linopy.readthedocs.io/en/latest/transport-tutorial.html).\n",
    "This problem solves for a least-cost shipping schedule that meets demand constraints at several markets (cities)\n",
    "and supply constraints at factories.\n",
    "\n",
    "For reference of the transport problem, see:\n",
    "> Dantzig, G B, Chapter 3.3. In Linear Programming and Extensions.  \n",
    "> Princeton University Press, Princeton, New Jersey, 1963.\n",
    "\n",
    "## Tutorial outline\n",
    "\n",
    "This tutorial consists of three Jupyter notebooks:\n",
    "\n",
    "0. Set up an **ixmp4.Platform** to store the scenario input data and solution\n",
    "1. Implement the **baseline version of the transport problem** and solve it\n",
    "2. Create an **alternative scenario** and solve it "
   ]
  },
  {
   "cell_type": "markdown",
   "metadata": {},
   "source": [
    "<div class=\"alert alert-info\">\n",
    "\n",
    "This notebook requires that you set up a database and defined the units as shown in [**Notebook 0**](0_transport-tutorial_platform-setup.ipynb).\n",
    "\n",
    "</div>"
   ]
  },
  {
   "cell_type": "markdown",
   "metadata": {},
   "source": [
    "## The platform as a connection to the database\n",
    "\n",
    "An [**ixmp4.Platform**](https://docs.ece.iiasa.ac.at/projects/ixmp4/en/latest/devs/ixmp4.core/platform.html#ixmp4.core.platform.Platform)\n",
    "is the connection to a database instance that can hold scenario data and relevant additional information."
   ]
  },
  {
   "cell_type": "code",
   "execution_count": null,
   "metadata": {},
   "outputs": [],
   "source": [
    "import ixmp4"
   ]
  },
  {
   "cell_type": "code",
   "execution_count": null,
   "metadata": {},
   "outputs": [],
   "source": [
    "platform = ixmp4.Platform(\"transport-tutorial\")"
   ]
  },
  {
   "cell_type": "markdown",
   "metadata": {},
   "source": [
    "An [**ixmp4.Run**](https://docs.ece.iiasa.ac.at/projects/ixmp4/en/latest/devs/ixmp4.core/run.html#ixmp4.core.run.Run)\n",
    "is an object that holds all relevant information for one quantification of a \"scenario\".  \n",
    "A run is identified by a *model name*, a *scenario name* and an automatically assigned *version number*.\n",
    "\n",
    "As a first step to solve the **transport problem**, we create a new run."
   ]
  },
  {
   "cell_type": "code",
   "execution_count": null,
   "metadata": {},
   "outputs": [],
   "source": [
    "run = platform.runs.create(model=\"transport problem\", scenario=\"standard\")"
   ]
  },
  {
   "cell_type": "markdown",
   "metadata": {},
   "source": [
    "## Defining the structure of the optimization problem\n",
    "\n",
    "### The IndexSets\n",
    "\n",
    "An **IndexSet** defines a list of elements with a name. These sets can be used for \"indexed assignment\" of parameters, variables and equations. \n",
    "The entries of these parameters, etc. are then validated against the elements of the linked set. \n",
    "In database terms, a column of a parameter, etc. can be \"foreign-keyed\" onto an set.\n",
    "\n",
    "Below, we first show the data as they would be written in the linopy tutorial."
   ]
  },
  {
   "cell_type": "raw",
   "metadata": {},
   "source": [
    "Sets\n",
    "     i   canning plants   / seattle, san-diego /\n",
    "     j   markets          / new-york, chicago, topeka / ;"
   ]
  },
  {
   "cell_type": "markdown",
   "metadata": {},
   "source": [
    "We now initialize these sets and add the data."
   ]
  },
  {
   "cell_type": "code",
   "execution_count": null,
   "metadata": {},
   "outputs": [],
   "source": [
    "i = run.optimization.indexsets.create(\"i\")\n",
    "i.add([\"seattle\", \"san-diego\"])"
   ]
  },
  {
   "cell_type": "markdown",
   "metadata": {},
   "source": [
    "We can display the elements of any **IndexSet** as a Python list:"
   ]
  },
  {
   "cell_type": "code",
   "execution_count": null,
   "metadata": {},
   "outputs": [],
   "source": [
    "i.data"
   ]
  },
  {
   "cell_type": "markdown",
   "metadata": {},
   "source": [
    "An **IndexSet** can have a docstring as a means for documentation."
   ]
  },
  {
   "cell_type": "code",
   "execution_count": null,
   "metadata": {},
   "outputs": [],
   "source": [
    "i.docs = \"Canning Plants\""
   ]
  },
  {
   "cell_type": "markdown",
   "metadata": {},
   "source": [
    "For simplicity, the steps of creating an **IndexSet** and assigning elements can be done in one line.\n",
    "\n",
    "We illustrate this for the second index-set of the transport problem."
   ]
  },
  {
   "cell_type": "code",
   "execution_count": null,
   "metadata": {},
   "outputs": [],
   "source": [
    "run.optimization.indexsets.create(\"j\").add([\"new-york\", \"chicago\", \"topeka\"])"
   ]
  },
  {
   "cell_type": "markdown",
   "metadata": {},
   "source": [
    "To add the docstring, we now have to explicitly get the index-set *j* and add the documentation."
   ]
  },
  {
   "cell_type": "code",
   "execution_count": null,
   "metadata": {},
   "outputs": [],
   "source": [
    "run.optimization.indexsets.get(\"j\").docs = \"Markets\""
   ]
  },
  {
   "cell_type": "markdown",
   "metadata": {},
   "source": [
    "### Parameters of the optimization problem\n",
    "\n",
    "A **Parameter** is a table with a number of index columns (each constrained to an **IndexSet**) as well as *units* and *values* columns.\n",
    "\n",
    "As a next step to solving the transport problem, we define the parameters *capacity* and *demand*.\n",
    "The parameters are assigned on the indexsets *i* and *j*, respectively."
   ]
  },
  {
   "cell_type": "raw",
   "metadata": {},
   "source": [
    "Parameters\n",
    "     a(i)  capacity of plant i in cases\n",
    "       /    seattle     350\n",
    "            san-diego   600  /\n",
    "     b(j)  demand at market j in cases\n",
    "       /    new-york    325\n",
    "            chicago     300\n",
    "            topeka      275  / ;"
   ]
  },
  {
   "cell_type": "markdown",
   "metadata": {},
   "source": [
    "The parameter data can be assigned as a dictionary."
   ]
  },
  {
   "cell_type": "code",
   "execution_count": null,
   "metadata": {},
   "outputs": [],
   "source": [
    "a = run.optimization.parameters.create(name=\"a\", constrained_to_indexsets=[\"i\"])\n",
    "a.docs = \"Capacity of plant i\"\n",
    "\n",
    "a_data = {\n",
    "    \"i\": [\"seattle\", \"san-diego\"],\n",
    "    \"values\": [350, 600],\n",
    "    \"units\": [\"cases\", \"cases\"],\n",
    "}\n",
    "a.add(data=a_data)"
   ]
  },
  {
   "cell_type": "markdown",
   "metadata": {},
   "source": [
    "Alternatively, the parameter data can be passed as a **pandas.DataFrame**."
   ]
  },
  {
   "cell_type": "code",
   "execution_count": null,
   "metadata": {},
   "outputs": [],
   "source": [
    "import pandas as pd\n",
    "\n",
    "\n",
    "b = run.optimization.parameters.create(\"b\", constrained_to_indexsets=[\"j\"])\n",
    "b.docs = \"Demand at market j\"\n",
    "\n",
    "b_data = pd.DataFrame(\n",
    "    [\n",
    "        [\"new-york\", 325, \"cases\"],\n",
    "        [\"chicago\", 300, \"cases\"],\n",
    "        [\"topeka\", 275, \"cases\"],\n",
    "    ],\n",
    "    columns=[\"j\", \"values\", \"units\"],\n",
    ")\n",
    "b.add(b_data)"
   ]
  },
  {
   "cell_type": "markdown",
   "metadata": {},
   "source": [
    "Notice how the data has three columns but has only been linked to one **IndexSet**? That's on purpose: Every **Parameter** needs to have (the columns) *values* and *units*. The value(s) can be any number(s), but the units have to be defined a-priori in the **ixmp4.Platform**.\n",
    "\n",
    "Here's how to access `parameter.data` to e.g. quickly confirm that *b* is set correctly:"
   ]
  },
  {
   "cell_type": "code",
   "execution_count": null,
   "metadata": {},
   "outputs": [],
   "source": [
    "b.data"
   ]
  },
  {
   "cell_type": "markdown",
   "metadata": {},
   "source": [
    "We now turn to a multi-dimensional parameter..."
   ]
  },
  {
   "cell_type": "raw",
   "metadata": {},
   "source": [
    "Table d(i,j)  distance in thousands of miles\n",
    "                  new-york       chicago      topeka\n",
    "    seattle          2.5           1.7          1.8\n",
    "    san-diego        2.5           1.8          1.4  ;"
   ]
  },
  {
   "cell_type": "markdown",
   "metadata": {},
   "source": [
    "It is possible to add data to a parameter in several steps...\n",
    "\n",
    "Here, we first define the parameter *d* and add four datapoints."
   ]
  },
  {
   "cell_type": "code",
   "execution_count": null,
   "metadata": {},
   "outputs": [],
   "source": [
    "d = run.optimization.parameters.create(\"d\", constrained_to_indexsets=[\"i\", \"j\"])\n",
    "d.docs = \"Distance between cities\"\n",
    "\n",
    "d_data = {\n",
    "    \"i\": [\"seattle\", \"seattle\", \"seattle\", \"san-diego\"],\n",
    "    \"j\": [\"new-york\", \"chicago\", \"topeka\", \"new-york\"],\n",
    "    \"values\": [2.5, 1.7, 1.8, 2.5],\n",
    "    \"units\": [\"km\", \"km\", \"km\", \"km\"]\n",
    "}\n",
    "d.add(d_data)"
   ]
  },
  {
   "cell_type": "markdown",
   "metadata": {},
   "source": [
    "Now, we add the two other datapoints. This step-by-step manipulation of parameter data can be helpful in large models."
   ]
  },
  {
   "cell_type": "code",
   "execution_count": null,
   "metadata": {},
   "outputs": [],
   "source": [
    "d.add({\"i\": [\"san-diego\"], \"j\": [\"chicago\"], \"values\": [1.8], \"units\": [\"km\"]})\n",
    "d.add({\"i\": [\"san-diego\"], \"j\": [\"topeka\"], \"values\": [1.4], \"units\": [\"km\"]})"
   ]
  },
  {
   "cell_type": "markdown",
   "metadata": {},
   "source": [
    "<div class=\"alert alert-warning\">\n",
    "\n",
    "Every time you add data, **all** columns of the parameter must be present!\n",
    "\n",
    "</div>"
   ]
  },
  {
   "cell_type": "markdown",
   "metadata": {},
   "source": [
    "### Scalars\n",
    "\n",
    "Another type of input data for optimization problems is a **Scalar**. These are not linked to an **IndexSet**, but consist of only a value and a unit (and a docstring)."
   ]
  },
  {
   "cell_type": "raw",
   "metadata": {},
   "source": [
    "Scalar f  freight in dollars per case per thousand miles  /90/ ;   "
   ]
  },
  {
   "cell_type": "code",
   "execution_count": null,
   "metadata": {},
   "outputs": [],
   "source": [
    "f = run.optimization.scalars.create(name=\"f\", value=90, unit=\"USD/km\")\n",
    "f.docs = \"Freight\""
   ]
  },
  {
   "cell_type": "markdown",
   "metadata": {},
   "source": [
    "### Defining the solution structure\n",
    "\n",
    "The solution of an optimization problem are a list of **Variable** and **Equation** objects.\n",
    "\n",
    "We first define the variables and equations in the **ixmp4.Run**. The values of the solution (level and marginal, mathematically speaking) are read from the **linopy** output after solving the problem."
   ]
  },
  {
   "cell_type": "raw",
   "metadata": {},
   "source": [
    "Variables\n",
    "     x(i,j)  shipment quantities in cases\n",
    "     z       total transportation costs in thousands of dollars ;\n",
    "     \n",
    "Equations\n",
    "     cost        define objective function\n",
    "     supply(i)   observe supply limit at plant i\n",
    "     demand(j)   satisfy demand at market j ;"
   ]
  },
  {
   "cell_type": "markdown",
   "metadata": {},
   "source": [
    "Here, *supply* can only come from the factories in `IndexSet` *i*, while *demand* needs to be met at the markets in `IndexSet` *j*.\n",
    "\n",
    "Shipment happens from a factory to a market, so *x* needs to be assigned to both *i* and *j*."
   ]
  },
  {
   "cell_type": "code",
   "execution_count": null,
   "metadata": {},
   "outputs": [],
   "source": [
    "x = run.optimization.variables.create(\"x\", constrained_to_indexsets=[\"i\", \"j\"])\n",
    "z = run.optimization.variables.create(\"z\")\n",
    "\n",
    "supply = run.optimization.equations.create(\"supply\", constrained_to_indexsets=[\"i\"])\n",
    "demand = run.optimization.equations.create(\"demand\", constrained_to_indexsets=[\"j\"])"
   ]
  },
  {
   "cell_type": "markdown",
   "metadata": {},
   "source": [
    "## Solve the scenario\n",
    "\n",
    "In this tutorial, we solve the tutorial using the open-source solver *highs* in **linopy**. \n",
    "\n",
    "The ``create_dantzig_model()`` function is a convenience shortcut to retrieve the data from the **ixmp4.Run**\n",
    "and set up a linopy model correctly to solve the transport problem. Please see ``linopy_model.py`` for details.\n",
    "\n",
    "The solution of the transport problem is stored with the model object automatically.\n",
    "The function ``store_dantzig_solution()`` reads the solution and stores it in the respective **Variable** and **Equation** objects of the **ixmp4.Run**."
   ]
  },
  {
   "cell_type": "code",
   "execution_count": null,
   "metadata": {},
   "outputs": [],
   "source": [
    "from tutorial.transport.dantzig_model_linopy import (\n",
    "    create_dantzig_model,\n",
    "    read_dantzig_solution,\n",
    ")\n",
    "\n",
    "\n",
    "linopy_model = create_dantzig_model(run=run)\n",
    "linopy_model.solve(\"highs\")\n",
    "read_dantzig_solution(model=linopy_model, run=run)"
   ]
  },
  {
   "cell_type": "markdown",
   "metadata": {},
   "source": [
    "## Display and analyze the results\n",
    "\n",
    "We can now retrieve and display the components of the solution.\n",
    "\n",
    "First, the variable *z* is the total cost of satisfying the demand at all markets."
   ]
  },
  {
   "cell_type": "code",
   "execution_count": null,
   "metadata": {},
   "outputs": [],
   "source": [
    "z.levels"
   ]
  },
  {
   "cell_type": "markdown",
   "metadata": {},
   "source": [
    "The variable *x* shows the least-cost (optimal) shipment from plants to markets."
   ]
  },
  {
   "cell_type": "code",
   "execution_count": null,
   "metadata": {},
   "outputs": [],
   "source": [
    "pd.DataFrame(x.data)"
   ]
  },
  {
   "cell_type": "markdown",
   "metadata": {},
   "source": [
    "The levels and marginals of the **Equation** show the shipped quantities and shadow prices (\"dual variables\") of the least-cost solution."
   ]
  },
  {
   "cell_type": "code",
   "execution_count": null,
   "metadata": {},
   "outputs": [],
   "source": [
    "demand.data"
   ]
  },
  {
   "cell_type": "code",
   "execution_count": null,
   "metadata": {},
   "outputs": [],
   "source": [
    "supply.data"
   ]
  },
  {
   "cell_type": "markdown",
   "metadata": {},
   "source": [
    "## Setting a default version of a run\n",
    "\n",
    "The key benefit of **ixmp4** is handling a large number of scenarios - aka **ixmp4.Run** objects - in a database.\n",
    "Each run is identified by a *model name*, a *scenario name* and an automatically assigned *version number*.\n",
    "\n",
    "For every model-scenario combination, we can assign one run as the *default version*.\n",
    "This allows to keep previous versions in the database (for easy reference and comparison) but have a well-defined approach to get the \"right\" version (e.g., the latest version of a scenario)."
   ]
  },
  {
   "cell_type": "code",
   "execution_count": null,
   "metadata": {},
   "outputs": [],
   "source": [
    "run.set_as_default()"
   ]
  },
  {
   "cell_type": "code",
   "execution_count": null,
   "metadata": {},
   "outputs": [],
   "source": []
  }
 ],
 "metadata": {
  "anaconda-cloud": {},
  "kernelspec": {
   "display_name": "Python 3 (ipykernel)",
   "language": "python",
   "name": "python3"
  },
  "language_info": {
   "codemirror_mode": {
    "name": "ipython",
    "version": 3
   },
   "file_extension": ".py",
   "mimetype": "text/x-python",
   "name": "python",
   "nbconvert_exporter": "python",
   "pygments_lexer": "ipython3",
   "version": "3.12.2"
  }
 },
 "nbformat": 4,
 "nbformat_minor": 4
}
