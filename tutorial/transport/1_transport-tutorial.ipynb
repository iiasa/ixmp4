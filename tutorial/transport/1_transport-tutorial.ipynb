{
 "cells": [
  {
   "cell_type": "markdown",
   "metadata": {},
   "source": [
    "### Transport Tutorial - Notebook 1\n",
    "\n",
    "# Solve Dantzig's Transport Problem using ixmp4 and linopy\n",
    "\n",
    "<img style=\"float: right; height: 80px;\" src=\"_static/python.png\">\n",
    "\n",
    "## Aim and scope of this tutorial\n",
    "\n",
    "This tutorial takes you through the steps to solve a simple optimization model\n",
    "using the **ixmp4** database management package and the **linopy** optimization package.\n",
    "\n",
    "We use **Dantzig's transport problem**, which is used as a [tutorial for linopy](https://linopy.readthedocs.io/en/latest/transport-tutorial.html).\n",
    "This problem solves for a least-cost shipping schedule that meets demand constraints markets\n",
    "and supply constraints at factories.\n",
    "\n",
    "For reference of the transport problem, see:\n",
    "> Dantzig, G B, Chapter 3.3. In Linear Programming and Extensions.  \n",
    "> Princeton University Press, Princeton, New Jersey, 1963.\n",
    "\n",
    "## Tutorial outline\n",
    "\n",
    "This tutorial consists of three Jupyter notebooks\n",
    "\n",
    "0. Set up an **ixmp4.Platform** to store the scenario input data and solution\n",
    "1. Implement the **baseline version of the transport problem** and solve it\n",
    "2. Create an **alternative scenario** and solve it "
   ]
  },
  {
   "cell_type": "markdown",
   "metadata": {},
   "source": [
    "<div class=\"alert alert-info\">\n",
    "\n",
    "This notebook requires that you set up a database and defined the units as shown in **Notebook 0**.\n",
    "\n",
    "</div>"
   ]
  },
  {
   "cell_type": "markdown",
   "metadata": {},
   "source": [
    "## Launching the `Platform` and initializing a new `Run`\n",
    "\n",
    "A `Platform` is the connection to the database that holds all data and relevant additional information.\n",
    "\n",
    "A `Run` is an object that holds all relevant information for one quantification of a scenario.  \n",
    "A run is identified by a model name, a scenario name and a version number (assigned automatically)."
   ]
  },
  {
   "cell_type": "markdown",
   "metadata": {},
   "source": [
    "You have to *register a new local database* before you can run the tutorial. \n",
    "\n",
    "Run the following in the command-line:\n",
    "```\n",
    "ixmp4 platforms add tutorial-test\n",
    "```\n",
    "\n",
    "You can then check if the database was successfully created by running\n",
    "```\n",
    "ixmp4 platforms list\n",
    "```\n",
    "\n",
    "After creating the database, you can connect to it via an `ixmp4.Platform` instance."
   ]
  },
  {
   "cell_type": "code",
   "execution_count": null,
   "metadata": {},
   "outputs": [],
   "source": [
    "import ixmp4\n",
    "\n",
    "platform = ixmp4.Platform(\"transport-tutorial\")"
   ]
  },
  {
   "cell_type": "markdown",
   "metadata": {},
   "source": [
    "Now, we initialize a new `ixmp4.Run` in the database."
   ]
  },
  {
   "cell_type": "code",
   "execution_count": null,
   "metadata": {},
   "outputs": [],
   "source": [
    "run = platform.runs.create(model=\"transport problem\", scenario=\"standard\")"
   ]
  },
  {
   "cell_type": "markdown",
   "metadata": {},
   "source": [
    "## Defining the `IndexSet`s\n",
    "\n",
    "An `IndexSet` defines a list of elements with a name. These `IndexSet`s can be used for \"indexed assignment\" of parameters, variables and equations. \n",
    "The entries of these parameters, etc. are then validated against the elements of the linked `IndexSet`(s). \n",
    "In database terms, a column of a parameter can be \"foreign-keyed\" onto an `IndexSet`.\n",
    "\n",
    "Below, we first show the data as they would be written in the GAMS tutorial ([transport.gms](transport.gms) in this folder).  "
   ]
  },
  {
   "cell_type": "raw",
   "metadata": {},
   "source": [
    "Sets\n",
    "     i   canning plants   / seattle, san-diego /\n",
    "     j   markets          / new-york, chicago, topeka / ;"
   ]
  },
  {
   "cell_type": "markdown",
   "metadata": {},
   "source": [
    "We now initialize these sets and assign the elements."
   ]
  },
  {
   "cell_type": "code",
   "execution_count": null,
   "metadata": {},
   "outputs": [],
   "source": [
    "i = run.optimization.indexsets.create(\"i\")\n",
    "i.add([\"seattle\", \"san-diego\"])"
   ]
  },
  {
   "cell_type": "markdown",
   "metadata": {},
   "source": [
    "We can display the elements of any `IndexSet` as a Python list:"
   ]
  },
  {
   "cell_type": "code",
   "execution_count": null,
   "metadata": {},
   "outputs": [],
   "source": [
    "i.elements"
   ]
  },
  {
   "cell_type": "markdown",
   "metadata": {},
   "source": [
    "`IndexSet`s can be notated with documentation strings to record their meaning. These strings can then be used by linopy, too! "
   ]
  },
  {
   "cell_type": "code",
   "execution_count": null,
   "metadata": {},
   "outputs": [],
   "source": [
    "# TODO We would need to implement this first, though, probably setting pd.Series.name\n",
    "# to it."
   ]
  },
  {
   "cell_type": "code",
   "execution_count": null,
   "metadata": {},
   "outputs": [],
   "source": [
    "i.docs = \"Canning Plants\""
   ]
  },
  {
   "cell_type": "markdown",
   "metadata": {},
   "source": [
    "For simplicity, the steps of creating an `IndexSet` and assigning elements can be done in one line."
   ]
  },
  {
   "cell_type": "code",
   "execution_count": null,
   "metadata": {},
   "outputs": [],
   "source": [
    "run.optimization.indexsets.create(\"j\").add([\"new-york\", \"chicago\", \"topeka\"])"
   ]
  },
  {
   "cell_type": "markdown",
   "metadata": {},
   "source": [
    "## Assigning the `Parameter`s\n",
    "\n",
    "Next, we define the parameters *capacity* and *demand*. The parameters are assigned on the indexsets *i* and *j*, respectively."
   ]
  },
  {
   "cell_type": "raw",
   "metadata": {},
   "source": [
    "Parameters\n",
    "     a(i)  capacity of plant i in cases\n",
    "       /    seattle     350\n",
    "            san-diego   600  /\n",
    "     b(j)  demand at market j in cases\n",
    "       /    new-york    325\n",
    "            chicago     300\n",
    "            topeka      275  / ;"
   ]
  },
  {
   "cell_type": "code",
   "execution_count": null,
   "metadata": {},
   "outputs": [],
   "source": [
    "import pandas as pd\n",
    "\n",
    "from ixmp4.core import Unit\n",
    "\n",
    "# We only need to (and can!) define units once for each Platform\n",
    "try:\n",
    "    cases = platform.units.get(\"cases\")\n",
    "except Unit.NotFound:\n",
    "    cases = platform.units.create(\"cases\")\n",
    "\n",
    "# Capacity of plant i in cases\n",
    "# Parameter data can be a dict...\n",
    "a = run.optimization.parameters.create(name=\"a\", constrained_to_indexsets=[\"i\"])\n",
    "a_data = {\n",
    "    \"i\": [\"seattle\", \"san-diego\"],\n",
    "    \"values\": [350, 600],\n",
    "    \"units\": [cases.name, cases.name],\n",
    "}\n",
    "a.add(data=a_data)\n",
    "\n",
    "# Demand at market j in cases\n",
    "b = run.optimization.parameters.create(\"b\", constrained_to_indexsets=[\"j\"])\n",
    "# ... or a pd.DataFrame\n",
    "b_data = pd.DataFrame(\n",
    "    [\n",
    "        [\"new-york\", 325, cases.name],\n",
    "        [\"chicago\", 300, cases.name],\n",
    "        [\"topeka\", 275, cases.name],\n",
    "    ],\n",
    "    columns=[\"j\", \"values\", \"units\"],\n",
    ")\n",
    "b.add(b_data)"
   ]
  },
  {
   "cell_type": "markdown",
   "metadata": {},
   "source": [
    "Notice how the `parameter.data` has three columns but has only been linked to one `IndexSet`? That's on purpose: Every `Parameter` needs to have (the columns) *values* and *units*, but these cannot be constrained to an `IndexSet`. The value(s) can be any number(s), but the units need to be known to the `Platform`.\n",
    "\n",
    "Here's how to access `parameter.data` to e.g. quickly confirm that *b* is set correctly:"
   ]
  },
  {
   "cell_type": "code",
   "execution_count": null,
   "metadata": {},
   "outputs": [],
   "source": [
    "b.data"
   ]
  },
  {
   "cell_type": "raw",
   "metadata": {},
   "source": [
    "Table d(i,j)  distance in thousands of miles\n",
    "                  new-york       chicago      topeka\n",
    "    seattle          2.5           1.7          1.8\n",
    "    san-diego        2.5           1.8          1.4  ;"
   ]
  },
  {
   "cell_type": "code",
   "execution_count": null,
   "metadata": {},
   "outputs": [],
   "source": [
    "try:\n",
    "    km = platform.units.get(\"km\")\n",
    "except Unit.NotFound:\n",
    "    km = platform.units.create(\"km\")\n",
    "\n",
    "# Distance in thousands of miles\n",
    "d = run.optimization.parameters.create(\"d\", constrained_to_indexsets=[\"i\", \"j\"])\n",
    "# You can start with some data ...\n",
    "d_data = {\n",
    "    \"i\": [\"seattle\", \"seattle\", \"seattle\", \"san-diego\"],\n",
    "    \"j\": [\"new-york\", \"chicago\", \"topeka\", \"new-york\"],\n",
    "    \"values\": [2.5, 1.7, 1.8, 2.5],\n",
    "    \"units\": [km.name] * 4,\n",
    "}\n",
    "d.add(d_data)\n",
    "\n",
    "# ... and expand it later on:\n",
    "d.add({\"i\": [\"san-diego\"], \"j\": [\"chicago\"], \"values\": [1.8], \"units\": [\"km\"]})\n",
    "d.add({\"i\": [\"san-diego\"], \"j\": [\"topeka\"], \"values\": [1.4], \"units\": [\"km\"]})"
   ]
  },
  {
   "cell_type": "markdown",
   "metadata": {},
   "source": [
    "Every time you add data, though, **all** columns must be present!"
   ]
  },
  {
   "cell_type": "raw",
   "metadata": {},
   "source": [
    "Scalar f  freight in dollars per case per thousand miles  /90/ ;   "
   ]
  },
  {
   "cell_type": "code",
   "execution_count": null,
   "metadata": {},
   "outputs": [],
   "source": [
    "# cost per case per 1000 miles\n",
    "\n",
    "# TODO we could really use a units.get_or_create() function!\n",
    "try:\n",
    "    unit_cost_per_case = platform.units.get(\"USD/km\")\n",
    "except Unit.NotFound:\n",
    "    unit_cost_per_case = platform.units.create(\"USD/km\")\n",
    "\n",
    "f = run.optimization.scalars.create(name=\"f\", value=90, unit=unit_cost_per_case)"
   ]
  },
  {
   "cell_type": "markdown",
   "metadata": {},
   "source": [
    "### Defining `Variable`s and `Equation`s in the scenario\n",
    "\n",
    "The levels and marginals of these `Variable`s and `Equation`s will be imported to the scenario when reading the model solution."
   ]
  },
  {
   "cell_type": "raw",
   "metadata": {},
   "source": [
    "Variables\n",
    "     x(i,j)  shipment quantities in cases\n",
    "     z       total transportation costs in thousands of dollars ;\n",
    "     \n",
    "Equations\n",
    "     cost        define objective function\n",
    "     supply(i)   observe supply limit at plant i\n",
    "     demand(j)   satisfy demand at market j ;"
   ]
  },
  {
   "cell_type": "code",
   "execution_count": null,
   "metadata": {},
   "outputs": [],
   "source": [
    "# initialize the decision variables and equations\n",
    "z = run.optimization.variables.create(\"z\")\n",
    "x = run.optimization.variables.create(\"x\", constrained_to_indexsets=[\"i\", \"j\"])\n",
    "supply = run.optimization.equations.create(\"supply\", constrained_to_indexsets=[\"i\"])\n",
    "demand = run.optimization.equations.create(\"demand\", constrained_to_indexsets=[\"j\"])"
   ]
  },
  {
   "cell_type": "markdown",
   "metadata": {},
   "source": [
    "### Solve the scenario\n",
    "\n",
    "In this tutorial, we solve the tutorial using the ``highs`` solver in linopy. \n",
    "\n",
    "The ``create_dantzig_model()`` function is a convenience shortcut for setting up a linopy model correctly for the dantzig scenario. Please see ``linopy_model.py`` for details.\n",
    "\n",
    "The solution data are stored with the model object automatically. ``store_dantzig_solution()`` then stores them in the ixmp4 objects."
   ]
  },
  {
   "cell_type": "code",
   "execution_count": null,
   "metadata": {},
   "outputs": [],
   "source": [
    "from tutorial.transport.dantzig_model_linopy import (\n",
    "    create_dantzig_model,\n",
    "    read_dantzig_solution,\n",
    ")\n",
    "\n",
    "linopy_model = create_dantzig_model(run=run)\n",
    "linopy_model.solve(\"highs\")\n",
    "\n",
    "read_dantzig_solution(model=linopy_model, run=run)"
   ]
  },
  {
   "cell_type": "markdown",
   "metadata": {},
   "source": [
    "### Display and analyze the results"
   ]
  },
  {
   "cell_type": "code",
   "execution_count": null,
   "metadata": {},
   "outputs": [],
   "source": [
    "# Display the objective value of the solution\n",
    "z.levels"
   ]
  },
  {
   "cell_type": "code",
   "execution_count": null,
   "metadata": {},
   "outputs": [],
   "source": [
    "# Display the quantities transported from canning plants to demand locations\n",
    "pd.DataFrame(x.data)"
   ]
  },
  {
   "cell_type": "code",
   "execution_count": null,
   "metadata": {},
   "outputs": [],
   "source": [
    "# Display the quantities and marginals (shadow prices) of the demand balance constraints\n",
    "demand.data"
   ]
  },
  {
   "cell_type": "code",
   "execution_count": null,
   "metadata": {},
   "outputs": [],
   "source": [
    "# Display the quantities and marginals (shadow prices) of the supply balance constraints\n",
    "supply.data"
   ]
  }
 ],
 "metadata": {
  "anaconda-cloud": {},
  "kernelspec": {
   "display_name": "Python 3 (ipykernel)",
   "language": "python",
   "name": "python3"
  },
  "language_info": {
   "codemirror_mode": {
    "name": "ipython",
    "version": 3
   },
   "file_extension": ".py",
   "mimetype": "text/x-python",
   "name": "python",
   "nbconvert_exporter": "python",
   "pygments_lexer": "ipython3",
   "version": "3.12.2"
  }
 },
 "nbformat": 4,
 "nbformat_minor": 4
}
