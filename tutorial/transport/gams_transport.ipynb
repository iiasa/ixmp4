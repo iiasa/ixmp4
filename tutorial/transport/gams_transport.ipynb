{
 "cells": [
  {
   "cell_type": "markdown",
   "metadata": {},
   "source": [
    "# Tutorial 1 <br /> <br /> Solve Dantzig's Transport Problem using the *ix modeling platform* (ixmp4)\n",
    "\n",
    "<img style=\"float: right; height: 80px;\" src=\"_static/python.png\">\n",
    "\n",
    "## Aim and scope of the tutorial\n",
    "\n",
    "This tutorial takes you through the steps to import the data for a very simple optimization model\n",
    "and solve it using the **ixmp4**-GAMS interface.\n",
    "\n",
    "We use Dantzig's transport problem, which is also used as the standard GAMS tutorial.\n",
    "This problem finds a least cost shipping schedule that meets requirements at markets and supplies at factories.\n",
    "\n",
    "If you are not familiar with GAMS, please take a minute to look at the [transport.gms](transport.gms) code.\n",
    "\n",
    "For reference of the transport problem, see:\n",
    "> Dantzig, G B, Chapter 3.3. In Linear Programming and Extensions.  \n",
    "> Princeton University Press, Princeton, New Jersey, 1963.\n",
    "\n",
    "> This formulation is described in detail in:  \n",
    "> Rosenthal, R E, Chapter 2: A GAMS Tutorial.  \n",
    "> In GAMS: A User's Guide. The Scientific Press, Redwood City, California, 1988.\n",
    "\n",
    "> see http://www.gams.com/mccarl/trnsport.gms\n",
    "\n",
    "## Tutorial outline\n",
    "\n",
    "The steps in the tutorial are the following:\n",
    "\n",
    "0. Launch an `ixmp4.Platform` instance and initialize a new `ixmp4.Run`.\n",
    "0. Define the `Set`s and `Parameter`s in the scenario and save the data to the platform.\n",
    "0. Initialize `Variable`s and `Equation`s to import the solution from GAMS.\n",
    "0. Call GAMS to **solve the scenario** (export to GAMS input gdx, execute, read solution from output gdx).\n",
    "0. Display the **solution** (variables and equations)."
   ]
  },
  {
   "cell_type": "markdown",
   "metadata": {},
   "source": [
    "## Launching the `Platform` and initializing a new `Run`\n",
    "\n",
    "A `Platform` is the connection to the database that holds all data and relevant additional information.\n",
    "\n",
    "A `Run` is an object that holds all relevant information for one quantification of a scenario.  \n",
    "A run is identified by a model name, a scenario name and a version number (assigned automatically)."
   ]
  },
  {
   "cell_type": "markdown",
   "metadata": {},
   "source": [
    "You have to *register a new local database* before you can run the tutorial. \n",
    "\n",
    "Run the following in the command-line:\n",
    "```\n",
    "ixmp4 platforms add tutorial-test\n",
    "```\n",
    "\n",
    "You can then check if the database was successfully created by running\n",
    "```\n",
    "ixmp4 platforms list\n",
    "```\n",
    "\n",
    "After creating the database, you can connect to it via an `ixmp4.Platform` instance."
   ]
  },
  {
   "cell_type": "code",
   "execution_count": null,
   "metadata": {},
   "outputs": [],
   "source": [
    "import ixmp4\n",
    "\n",
    "platform = ixmp4.Platform(\"tutorial-test\")"
   ]
  },
  {
   "cell_type": "markdown",
   "metadata": {},
   "source": [
    "Now, we initialize a new `ixmp4.Run` in the database."
   ]
  },
  {
   "cell_type": "code",
   "execution_count": null,
   "metadata": {},
   "outputs": [],
   "source": [
    "run = platform.runs.create(model=\"transport problem\", scenario=\"standard\")"
   ]
  },
  {
   "cell_type": "markdown",
   "metadata": {},
   "source": [
    "## Defining the `IndexSet`s\n",
    "\n",
    "An `IndexSet` defines a list of elements with a name. These `IndexSet`s can be used for \"indexed assignment\" of parameters, variables and equations. \n",
    "The entries of these parameters, etc. are then validated against the elements of the linked `IndexSet`(s). \n",
    "In database terms, a column of a parameter can be \"foreign-keyed\" onto an `IndexSet`.\n",
    "\n",
    "Below, we first show the data as they would be written in the GAMS tutorial ([transport.gms](transport.gms) in this folder).  "
   ]
  },
  {
   "cell_type": "raw",
   "metadata": {},
   "source": [
    "Sets\n",
    "     i   canning plants   / seattle, san-diego /\n",
    "     j   markets          / new-york, chicago, topeka / ;"
   ]
  },
  {
   "cell_type": "markdown",
   "metadata": {},
   "source": [
    "We now initialize these sets and assign the elements."
   ]
  },
  {
   "cell_type": "code",
   "execution_count": null,
   "metadata": {},
   "outputs": [],
   "source": [
    "i = run.optimization.indexsets.create(\"i\")\n",
    "i.add([\"seattle\", \"san-diego\"])"
   ]
  },
  {
   "cell_type": "markdown",
   "metadata": {},
   "source": [
    "We can display the elements of any `IndexSet` as a Python list:"
   ]
  },
  {
   "cell_type": "code",
   "execution_count": null,
   "metadata": {},
   "outputs": [],
   "source": [
    "i.elements"
   ]
  },
  {
   "cell_type": "markdown",
   "metadata": {},
   "source": [
    "`IndexSet`s can be notated with documentation strings to record their meaning. These strings can be translated to GAMS, too! "
   ]
  },
  {
   "cell_type": "code",
   "execution_count": null,
   "metadata": {},
   "outputs": [],
   "source": [
    "i.docs = \"Canning Plants\""
   ]
  },
  {
   "cell_type": "markdown",
   "metadata": {},
   "source": [
    "For simplicity, the steps of creating an `IndexSet` and assigning elements can also be done in one line:"
   ]
  },
  {
   "cell_type": "code",
   "execution_count": null,
   "metadata": {},
   "outputs": [],
   "source": [
    "run.optimization.indexsets.create(\"j\").add([\"new-york\", \"chicago\", \"topeka\"])"
   ]
  },
  {
   "cell_type": "markdown",
   "metadata": {},
   "source": [
    "## Assigning the `Parameter`s\n",
    "\n",
    "Next, we define the parameters *capacity* and *demand*. The parameters are assigned on the indexsets *i* and *j*, respectively."
   ]
  },
  {
   "cell_type": "raw",
   "metadata": {},
   "source": [
    "Parameters\n",
    "     a(i)  capacity of plant i in cases\n",
    "       /    seattle     350\n",
    "            san-diego   600  /\n",
    "     b(j)  demand at market j in cases\n",
    "       /    new-york    325\n",
    "            chicago     300\n",
    "            topeka      275  / ;"
   ]
  },
  {
   "cell_type": "code",
   "execution_count": null,
   "metadata": {},
   "outputs": [],
   "source": [
    "import pandas as pd\n",
    "\n",
    "from ixmp4.core import Unit\n",
    "\n",
    "# We only need to (and can!) define units once for each Platform\n",
    "try:\n",
    "    cases = platform.units.get(\"cases\")\n",
    "except Unit.NotFound:\n",
    "    cases = platform.units.create(\"cases\")\n",
    "\n",
    "# Capacity of plant i in cases\n",
    "a = run.optimization.parameters.create(name=\"a\", constrained_to_indexsets=[\"i\"])\n",
    "# Parameter data can be a dict...\n",
    "a_data = {\n",
    "    \"i\": [\"seattle\", \"san-diego\"],\n",
    "    \"values\": [350, 600],\n",
    "    \"units\": [cases.name, cases.name],\n",
    "}\n",
    "a.add(data=a_data)\n",
    "\n",
    "# Demand at market j in cases\n",
    "b = run.optimization.parameters.create(\"b\", constrained_to_indexsets=[\"j\"])\n",
    "# ... or a pd.DataFrame\n",
    "b_data = pd.DataFrame(\n",
    "    [\n",
    "        [\"new-york\", 325, cases.name],\n",
    "        [\"chicago\", 300, cases.name],\n",
    "        [\"topeka\", 275, cases.name],\n",
    "    ],\n",
    "    columns=[\"j\", \"values\", \"units\"],\n",
    ")\n",
    "b.add(b_data)"
   ]
  },
  {
   "cell_type": "markdown",
   "metadata": {},
   "source": [
    "Notice how the `parameter.data` has three columns but has only been linked to one `IndexSet`? That's on purpose: Every `Parameter` needs to have (the columns) *values* and *units*, but these cannot be constrained to an `IndexSet`. The value(s) can be any number(s), but the units need to be known to the `Platform`.\n",
    "\n",
    "Here's how to access `parameter.data` to e.g. quickly confirm that *b* is set correctly:"
   ]
  },
  {
   "cell_type": "code",
   "execution_count": null,
   "metadata": {},
   "outputs": [],
   "source": [
    "b.data"
   ]
  },
  {
   "cell_type": "raw",
   "metadata": {},
   "source": [
    "Table d(i,j)  distance in thousands of miles\n",
    "                  new-york       chicago      topeka\n",
    "    seattle          2.5           1.7          1.8\n",
    "    san-diego        2.5           1.8          1.4  ;"
   ]
  },
  {
   "cell_type": "code",
   "execution_count": null,
   "metadata": {},
   "outputs": [],
   "source": [
    "try:\n",
    "    km = platform.units.get(\"km\")\n",
    "except Unit.NotFound:\n",
    "    km = platform.units.create(\"km\")\n",
    "\n",
    "# Distance in thousands of miles\n",
    "d = run.optimization.parameters.create(\"d\", constrained_to_indexsets=[\"i\", \"j\"])\n",
    "# You can start with some data ...\n",
    "d_data = {\n",
    "    \"i\": [\"seattle\", \"seattle\", \"seattle\", \"san-diego\"],\n",
    "    \"j\": [\"new-york\", \"chicago\", \"topeka\", \"new-york\"],\n",
    "    \"values\": [2.5, 1.7, 1.8, 2.5],\n",
    "    \"units\": [km.name] * 4,\n",
    "}\n",
    "d.add(d_data)\n",
    "\n",
    "# ... and expand it later on:\n",
    "d.add({\"i\": [\"san-diego\"], \"j\": [\"chicago\"], \"values\": [1.8], \"units\": [\"km\"]})\n",
    "d.add({\"i\": [\"san-diego\"], \"j\": [\"topeka\"], \"values\": [1.4], \"units\": [\"km\"]})"
   ]
  },
  {
   "cell_type": "markdown",
   "metadata": {},
   "source": [
    "Every time you add data, though, **all** columns must be present!"
   ]
  },
  {
   "cell_type": "raw",
   "metadata": {},
   "source": [
    "Scalar f  freight in dollars per case per thousand miles  /90/ ;   "
   ]
  },
  {
   "cell_type": "code",
   "execution_count": null,
   "metadata": {},
   "outputs": [],
   "source": [
    "# Cost per case per 1000 miles\n",
    "\n",
    "# TODO we could really use a units.get_or_create() function!\n",
    "try:\n",
    "    unit_cost_per_case = platform.units.get(\"USD/km\")\n",
    "except Unit.NotFound:\n",
    "    unit_cost_per_case = platform.units.create(\"USD/km\")\n",
    "\n",
    "f = run.optimization.scalars.create(name=\"f\", value=90, unit=unit_cost_per_case)"
   ]
  },
  {
   "cell_type": "markdown",
   "metadata": {},
   "source": [
    "### Defining `Variable`s and `Equation`s in the scenario\n",
    "\n",
    "The levels and marginals of these variables and equations will be imported to the scenario when reading the model solution."
   ]
  },
  {
   "cell_type": "raw",
   "metadata": {},
   "source": [
    "Variables\n",
    "     x(i,j)  shipment quantities in cases\n",
    "     z       total transportation costs in thousands of dollars ;\n",
    "     \n",
    "Equations\n",
    "     cost        define objective function\n",
    "     supply(i)   observe supply limit at plant i\n",
    "     demand(j)   satisfy demand at market j ;"
   ]
  },
  {
   "cell_type": "code",
   "execution_count": null,
   "metadata": {},
   "outputs": [],
   "source": [
    "# Initialize the decision variables and equations\n",
    "z = run.optimization.variables.create(\"z\")\n",
    "x = run.optimization.variables.create(\"x\", constrained_to_indexsets=[\"i\", \"j\"])\n",
    "supply = run.optimization.equations.create(\"supply\", constrained_to_indexsets=[\"i\"])\n",
    "demand = run.optimization.equations.create(\"demand\", constrained_to_indexsets=[\"j\"])"
   ]
  },
  {
   "cell_type": "markdown",
   "metadata": {},
   "source": [
    "### Solve the scenario\n",
    "\n",
    "In this tutorial, we solve the scenario using GAMS. \n",
    "GAMS requires model data and structure to follow their proprietary formats, so we need to write out model data to this format before GAMS can handle it (\"`data_file`\").\n",
    "For this tutorial, the structure of the model (the equations that relate the variables) has already been written to a `transport_ixmp4.gms`, so we can simply use that (\"`model_file`\").\n",
    "After the calculation, GAMS writes the results out in the `.gdx` format again, which we need to read back into our `Run` (\"`result_file`\").\n",
    "Thus, the solution process requires three steps:\n",
    "\n",
    "1. Write the `Run` data to a `.gdx` file that GAMS can read.\n",
    "2. Solve the scenario in GAMS.\n",
    "3. Read the solution data back into our `Run`.\n",
    "\n",
    "For convenience, these are pre-existing functions here, so we can immediately use them. Feel free to check out their implementation in `dantzig_model_gams.py`, though, if you are interested!"
   ]
  },
  {
   "cell_type": "code",
   "execution_count": null,
   "metadata": {},
   "outputs": [],
   "source": [
    "from pathlib import Path\n",
    "\n",
    "from tutorial.transport.dantzig_model_gams import (\n",
    "    read_solution_to_run,\n",
    "    solve,\n",
    "    write_run_to_gams,\n",
    ")\n",
    "\n",
    "# First, we collect all relevant Run data in a gams container:\n",
    "gams_container = write_run_to_gams(run=run)\n",
    "\n",
    "# For the next steps, you can adapt the locations of the files as discussed above.\n",
    "# If you are not sure how, please use these defaults:\n",
    "data_file = Path(\"transport_data.gdx\").absolute()\n",
    "model_file = Path(\"transport_ixmp4.gms\").absolute()\n",
    "result_file = Path(\"transport_results.gdx\").absolute()\n",
    "\n",
    "# The gams container then allows us to write the required data format file:\n",
    "gams_container.write(write_to=data_file)\n",
    "\n",
    "# Now, we can actually solve the model:\n",
    "solve(model_file=model_file, data_file=data_file, result_file=result_file)\n",
    "\n",
    "# Finally, we read the solution back into our Run:\n",
    "read_solution_to_run(run=run, result_file=result_file)"
   ]
  },
  {
   "cell_type": "markdown",
   "metadata": {},
   "source": [
    "### Display and analyze the results"
   ]
  },
  {
   "cell_type": "code",
   "execution_count": null,
   "metadata": {},
   "outputs": [],
   "source": [
    "# Display the objective value of the solution\n",
    "z.levels"
   ]
  },
  {
   "cell_type": "code",
   "execution_count": null,
   "metadata": {},
   "outputs": [],
   "source": [
    "# Display the quantities transported from canning plants to demand locations\n",
    "x.data"
   ]
  },
  {
   "cell_type": "code",
   "execution_count": null,
   "metadata": {},
   "outputs": [],
   "source": [
    "# Display the quantities and marginals (shadow prices) of the demand balance constraints\n",
    "demand.data"
   ]
  },
  {
   "cell_type": "code",
   "execution_count": null,
   "metadata": {},
   "outputs": [],
   "source": [
    "# Display the quantities and marginals (shadow prices) of the supply balance constraints\n",
    "supply.data"
   ]
  }
 ],
 "metadata": {
  "anaconda-cloud": {},
  "kernelspec": {
   "display_name": "Python 3 (ipykernel)",
   "language": "python",
   "name": "python3"
  },
  "language_info": {
   "codemirror_mode": {
    "name": "ipython",
    "version": 3
   },
   "file_extension": ".py",
   "mimetype": "text/x-python",
   "name": "python",
   "nbconvert_exporter": "python",
   "pygments_lexer": "ipython3",
   "version": "3.12.4"
  }
 },
 "nbformat": 4,
 "nbformat_minor": 1
}
