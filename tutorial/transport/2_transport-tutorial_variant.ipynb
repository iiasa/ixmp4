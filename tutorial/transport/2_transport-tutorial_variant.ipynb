{
 "cells": [
  {
   "cell_type": "markdown",
   "metadata": {},
   "source": [
    "### Transport Tutorial - Notebook 2\n",
    "\n",
    "# Implement and solve a variation of *Dantzig's Transport Problem*\n",
    "\n",
    "## Aim and scope of this tutorial\n",
    "\n",
    "This tutorial takes you through the steps to solve a simple optimization model\n",
    "using the **ixmp4** database management package and the **linopy** optimization package.\n",
    "\n",
    "We use **Dantzig's transport problem**, which is used as a [tutorial for linopy](https://linopy.readthedocs.io/en/latest/transport-tutorial.html).\n",
    "This problem solves for a least-cost shipping schedule that meets demand constraints in several markets (cities)\n",
    "and supply constraints at factories.\n",
    "\n",
    "For reference of the transport problem, see:\n",
    "> Dantzig, G B, Chapter 3.3. In Linear Programming and Extensions.  \n",
    "> Princeton University Press, Princeton, New Jersey, 1963.\n",
    "\n",
    "## Tutorial outline\n",
    "\n",
    "This tutorial consists of three Jupyter notebooks:\n",
    "\n",
    "0. Set up an **ixmp4.Platform** to store the scenario input data and solution\n",
    "1. Implement the **baseline version of the transport problem** and solve it\n",
    "2. Create an **alternative scenario** and solve it "
   ]
  },
  {
   "cell_type": "markdown",
   "metadata": {},
   "source": [
    "<div class=\"alert alert-info\">\n",
    "\n",
    "This notebook requires that you created and solved the base transport problem as shown in [**Notebook 1**](1_transport-tutorial.ipynb).\n",
    "\n",
    "</div>"
   ]
  },
  {
   "cell_type": "markdown",
   "metadata": {},
   "source": [
    "## The platform as a connection to the database\n",
    "\n",
    "An [**ixmp4.Platform**](https://docs.ece.iiasa.ac.at/projects/ixmp4/en/latest/devs/ixmp4.core/platform.html#ixmp4.core.platform.Platform)\n",
    "is the connection to a database instance that can hold scenario data and relevant additional information."
   ]
  },
  {
   "cell_type": "code",
   "execution_count": null,
   "metadata": {},
   "outputs": [],
   "source": [
    "import ixmp4\n",
    "import pandas as pd"
   ]
  },
  {
   "cell_type": "code",
   "execution_count": null,
   "metadata": {},
   "outputs": [],
   "source": [
    "platform = ixmp4.Platform(\"transport-tutorial\")"
   ]
  },
  {
   "cell_type": "markdown",
   "metadata": {},
   "source": [
    "As a first step, we list all scenarios (aka [**ixmp4.Run**](https://docs.ece.iiasa.ac.at/projects/ixmp4/en/latest/devs/ixmp4.core/run.html#ixmp4.core.run.Run) instances)\n",
    "available in the platform connected to the database instance."
   ]
  },
  {
   "cell_type": "code",
   "execution_count": null,
   "metadata": {},
   "outputs": [],
   "source": [
    "platform.runs.tabulate()"
   ]
  },
  {
   "cell_type": "markdown",
   "metadata": {},
   "source": [
    "<div class=\"alert alert-info\">\n",
    "\n",
    "If you are running this tutorial for the first time, you will only see the *standard* scenario of the *transport problem*.  \n",
    "If you have already done some experimentation in the `transport-tutorial` platform, you will see more scenarios.\n",
    "\n",
    "</div>"
   ]
  },
  {
   "cell_type": "markdown",
   "metadata": {},
   "source": [
    "## Retrieve a run from the platform\n",
    "\n",
    "As a first step in this notebook, you can load the **ixmp4.Run** that you created in Notebook 1."
   ]
  },
  {
   "cell_type": "code",
   "execution_count": null,
   "metadata": {},
   "outputs": [],
   "source": [
    "run = platform.runs.get(model=\"transport problem\", scenario=\"standard\")"
   ]
  },
  {
   "cell_type": "markdown",
   "metadata": {},
   "source": [
    "You can check that this is indeed the version shown above by comparing the *version number*."
   ]
  },
  {
   "cell_type": "code",
   "execution_count": null,
   "metadata": {},
   "outputs": [],
   "source": [
    "run.version"
   ]
  },
  {
   "cell_type": "markdown",
   "metadata": {},
   "source": [
    "You can check that the solution from Notebook 1 was indeed saved by inspecting an **ixmp4.Variable**.  \n",
    "The `data` of any optimization object is stored internally as a dictionary."
   ]
  },
  {
   "cell_type": "code",
   "execution_count": null,
   "metadata": {},
   "outputs": [],
   "source": [
    "run.optimization.variables.get(\"z\").data"
   ]
  },
  {
   "cell_type": "markdown",
   "metadata": {},
   "source": [
    "For instances of a **Variable** or a **Parameter** that have multiple dimensions,\n",
    "you can use **pandas** for filtering and inspecting the data.\n",
    "\n",
    "The following cell shows the data for a using the distance parameter *d* and cast the `data` to a **pandas.DataFrame**."
   ]
  },
  {
   "cell_type": "code",
   "execution_count": null,
   "metadata": {},
   "outputs": [],
   "source": [
    "d = run.optimization.parameters.get(\"d\")\n",
    "distance = pd.DataFrame(d.data)"
   ]
  },
  {
   "cell_type": "code",
   "execution_count": null,
   "metadata": {},
   "outputs": [],
   "source": [
    "distance[distance[\"i\"] == \"seattle\"]"
   ]
  },
  {
   "cell_type": "markdown",
   "metadata": {},
   "source": [
    "You can also combine filters for more elaborate queries."
   ]
  },
  {
   "cell_type": "code",
   "execution_count": null,
   "metadata": {},
   "outputs": [],
   "source": [
    "distance.loc[(distance[\"i\"] == \"seattle\") & (distance[\"j\"].isin([\"chicago\", \"topeka\"]))]"
   ]
  },
  {
   "cell_type": "markdown",
   "metadata": {},
   "source": [
    "Please note that **pandas** recommends to use [advanced indexing](https://pandas.pydata.org/pandas-docs/stable/user_guide/advanced.html#advanced-advanced-hierarchical) if you find yourself using more than three conditionals in `.loc[]`."
   ]
  },
  {
   "cell_type": "markdown",
   "metadata": {},
   "source": [
    "## Make a clone of the baseline scenario\n",
    "\n",
    "For illustration of a typical scenario analysis workflow, we create a copy of the standard transportation problem\n",
    "and make two modifications:\n",
    "- Add a new demand location *detroit* and add a demand-level and freight costs to that city.\n",
    "- Reduce the demand level in *chicago* to ensure a feasible problem, because the total production capacity does not allow much slack for increased production.\n",
    "\n",
    "The next cell creates a copy (`clone()`) of the standard transportation problem."
   ]
  },
  {
   "cell_type": "code",
   "execution_count": null,
   "metadata": {},
   "outputs": [],
   "source": [
    "run_detroit = run.clone(scenario=\"detroit\")"
   ]
  },
  {
   "cell_type": "markdown",
   "metadata": {},
   "source": [
    "Because the cell above did not specify a *model name*, the clone kept the original model name."
   ]
  },
  {
   "cell_type": "code",
   "execution_count": null,
   "metadata": {},
   "outputs": [],
   "source": [
    "run_detroit.model.name"
   ]
  },
  {
   "cell_type": "markdown",
   "metadata": {},
   "source": [
    "We now modify the structure and parameters of the *detroit* scenario.\n",
    "First, we reduce the demand in *chicago* to ensure a feasible problem.."
   ]
  },
  {
   "cell_type": "code",
   "execution_count": null,
   "metadata": {},
   "outputs": [],
   "source": [
    "run_detroit.optimization.parameters.get(\"b\").add(\n",
    "    {\"j\": [\"chicago\"], \"values\": [200], \"units\": [\"cases\"]}\n",
    ")"
   ]
  },
  {
   "cell_type": "markdown",
   "metadata": {},
   "source": [
    "Now, we add a new market *detroit* and add all relevant parameters."
   ]
  },
  {
   "cell_type": "code",
   "execution_count": null,
   "metadata": {},
   "outputs": [],
   "source": [
    "run_detroit.optimization.indexsets.get(\"j\").add(\"detroit\")\n",
    "run_detroit.optimization.parameters.get(\"b\").add(\n",
    "    {\"j\": [\"detroit\"], \"values\": [150], \"units\": [\"cases\"]}\n",
    ")\n",
    "run_detroit.optimization.parameters.get(\"d\").add(\n",
    "    {\n",
    "        \"i\": [\"seattle\", \"san-diego\"],\n",
    "        \"j\": [\"detroit\", \"detroit\"],\n",
    "        \"values\": [1.7, 1.9],\n",
    "        \"units\": [\"km\", \"km\"],\n",
    "    }\n",
    ")"
   ]
  },
  {
   "cell_type": "markdown",
   "metadata": {},
   "source": [
    "### Solve the new scenario\n",
    "\n",
    "Now, we create a **linopy** model, solve it, and read the solution to store it\n",
    "in the respective **Variable** and **Equation** objects of the **ixmp4.Run**."
   ]
  },
  {
   "cell_type": "code",
   "execution_count": null,
   "metadata": {},
   "outputs": [],
   "source": [
    "from tutorial.transport.dantzig_model_linopy import (\n",
    "    create_dantzig_model,\n",
    "    read_dantzig_solution,\n",
    ")\n",
    "\n",
    "\n",
    "linopy_model_detroit = create_dantzig_model(run=run_detroit)\n",
    "linopy_model_detroit.solve(\"highs\")\n",
    "read_dantzig_solution(model=linopy_model_detroit, run=run_detroit)"
   ]
  },
  {
   "cell_type": "markdown",
   "metadata": {},
   "source": [
    "## Setting a default version of the scenario\n",
    "\n",
    "As in Notebook 1, we set the *detroit* scenario as the default version so that we can easily retrieve it later."
   ]
  },
  {
   "cell_type": "code",
   "execution_count": null,
   "metadata": {},
   "outputs": [],
   "source": [
    "run_detroit.set_as_default()"
   ]
  },
  {
   "cell_type": "markdown",
   "metadata": {},
   "source": [
    "## Display and analyze the results\n",
    "\n",
    "We can now compare the *standard* instance of the *transport problem* and the *detroit* scenario.\n",
    "\n",
    "The next two cells show the objective values of the two runs."
   ]
  },
  {
   "cell_type": "code",
   "execution_count": null,
   "metadata": {
    "jupyter": {
     "name": "scen-z"
    }
   },
   "outputs": [],
   "source": [
    "run.optimization.variables.get(\"z\").levels"
   ]
  },
  {
   "cell_type": "code",
   "execution_count": null,
   "metadata": {
    "jupyter": {
     "name": "scen-detroit-z"
    }
   },
   "outputs": [],
   "source": [
    "run_detroit.optimization.variables.get(\"z\").levels"
   ]
  },
  {
   "cell_type": "markdown",
   "metadata": {},
   "source": [
    "You see that the *detroit* scenario has higher total cost.\n",
    "\n",
    "The next two cells compare the optimal assignment of shipments from plants to markets in the two runs."
   ]
  },
  {
   "cell_type": "code",
   "execution_count": null,
   "metadata": {},
   "outputs": [],
   "source": [
    "pd.DataFrame(run.optimization.variables.get(\"x\").data)"
   ]
  },
  {
   "cell_type": "code",
   "execution_count": null,
   "metadata": {},
   "outputs": [],
   "source": [
    "pd.DataFrame(run_detroit.optimization.variables.get(\"x\").data)"
   ]
  },
  {
   "cell_type": "code",
   "execution_count": null,
   "metadata": {},
   "outputs": [],
   "source": [
    "run_detroit.optimization.equations.get(\"demand\").data"
   ]
  },
  {
   "cell_type": "markdown",
   "metadata": {},
   "source": [
    "## Scenario version management\n",
    "\n",
    "As above, you can now list all scenarios available in the database instance to which the **ixmp4.Platform** is connected.\n",
    "\n",
    "You should now see (at least) two scenarios."
   ]
  },
  {
   "cell_type": "code",
   "execution_count": null,
   "metadata": {},
   "outputs": [],
   "source": [
    "platform.runs.tabulate()"
   ]
  },
  {
   "cell_type": "markdown",
   "metadata": {},
   "source": [
    "When developing scenarios, we often make minor variations to numerous scenarios, and changing the *scenario name* every time is not practical.\n",
    "\n",
    "The **ixmp4** package provides a more efficient approach to scenario version management: Every time that you *create* a new run or *clone* an existing run and the *model-scenario-name* combination already exists, a new *version* will be created.\n",
    "\n",
    "You can get a specific *version* by including the version number in the call to get an **ixmp4.Run** like\n",
    "\n",
    "```python\n",
    "platforms.runs.get(model, scenario, version)\n",
    "```\n",
    "\n",
    "You also can assign one of the versions as *default*, so that this run will be retrieved when you call\n",
    "\n",
    "```python\n",
    "platforms.runs.get(model, scenario)\n",
    "```\n",
    "\n",
    "without a version number.\n",
    "\n",
    "All versions will be kept in the database and are accessible via the **ixmp4.Platform**.\n",
    "\n",
    "If you have run this tutorial multiple times, you can tabulate all runs - including the non-default versions - as illustrated below."
   ]
  },
  {
   "cell_type": "code",
   "execution_count": null,
   "metadata": {},
   "outputs": [],
   "source": [
    "platform.runs.tabulate(default_only=False)"
   ]
  },
  {
   "cell_type": "markdown",
   "metadata": {},
   "source": [
    "## Cleaning up after doing this tutorial\n",
    "\n",
    "You can use the **ixmp4** Command Line Interface (CLI) to remove the database related to this tutorial.\n",
    "\n",
    "Run the following in the command-line:\n",
    "```\n",
    "ixmp4 platforms delete transport-tutorial\n",
    "```\n",
    "\n",
    "The prompt will ask whether you also want to delete the SQLite database file from your computer."
   ]
  },
  {
   "cell_type": "code",
   "execution_count": null,
   "metadata": {},
   "outputs": [],
   "source": []
  }
 ],
 "metadata": {
  "anaconda-cloud": {},
  "kernelspec": {
   "display_name": "Python 3 (ipykernel)",
   "language": "python",
   "name": "python3"
  },
  "language_info": {
   "codemirror_mode": {
    "name": "ipython",
    "version": 3
   },
   "file_extension": ".py",
   "mimetype": "text/x-python",
   "name": "python",
   "nbconvert_exporter": "python",
   "pygments_lexer": "ipython3",
   "version": "3.12.2"
  }
 },
 "nbformat": 4,
 "nbformat_minor": 4
}
